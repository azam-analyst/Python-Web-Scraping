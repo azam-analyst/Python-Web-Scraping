{
 "cells": [
  {
   "cell_type": "code",
   "execution_count": null,
   "id": "5fbf091b",
   "metadata": {},
   "outputs": [],
   "source": [
    "from bs4 import BeautifulSoup\n",
    "import requests\n",
    "import csv\n",
    "from csv import writer\n",
    "import pandas as pd\n",
    "import numpy as np\n",
    "import openpyxl"
   ]
  },
  {
   "cell_type": "code",
   "execution_count": null,
   "id": "989a0b5b",
   "metadata": {},
   "outputs": [],
   "source": [
    "# Codes to scrap web data\n",
    "title=[]\n",
    "location=[]\n",
    "features=[]\n",
    "price=[]\n",
    "\n",
    "# for loops to extract 150 pages of the website with listed new apartments in Lisbon\n",
    "for i in range(1,151):   \n",
    "    url= \"https://casa.sapo.pt/en-gb/buy-house/new/lisboa/?pn=\" + str(i)\n",
    "    headers = {\"User-Agent\": \"Mozilla/5.0 (Windows NT 10.0; Win64; x64) AppleWebKit/537.36 (KHTML, like Gecko) Chrome/78.0.3904.108 Safari/537.36\", \"Accept-Encoding\":\"gzip, deflate\", \"Accept\":\"text/html,application/xhtml+xml,application/xml;q=0.9,*/*;q=0.8\", \"DNT\":\"1\",\"Connection\":\"close\", \"Upgrade-Insecure-Requests\":\"1\"}\n",
    "    page = requests.get(url,headers=headers)\n",
    "    soup = BeautifulSoup(page.text, \"html.parser\")\n",
    "    lists = soup.find_all('div',class_=\"property-info-content\")\n",
    "    \n",
    "# for loops to extract targeted information\n",
    "    for list in lists:\n",
    "        title.append(list.find('div', class_=\"property-type\").text.replace('\\n', '').strip())\n",
    "        location.append(list.find('div', class_=\"property-location\").text.replace('\\n', '').strip())\n",
    "        features.append(list.find('div', class_=\"property-features\").text.replace('\\n', '').strip())\n",
    "        price.append(list.find('div', class_=\"property-price-value\").text.replace('\\n', '').strip())\n",
    "        data=[title,location,features,price]\n",
    "        header=['Title','Location','Features','Price']"
   ]
  },
  {
   "cell_type": "code",
   "execution_count": null,
   "id": "5fefc452",
   "metadata": {},
   "outputs": [],
   "source": [
    "# creating data frame for the dataset\n",
    "\n",
    "new_apartments=pd.DataFrame\n",
    "(\n",
    "    {'Title':title,\n",
    "     'Location':location,\n",
    "     'Features':features,\n",
    "     'Price':price}\n",
    ")"
   ]
  },
  {
   "cell_type": "code",
   "execution_count": null,
   "id": "b90666a7",
   "metadata": {},
   "outputs": [],
   "source": [
    "# transferring data to excel\n",
    "\n",
    "new_apartments.to_excel('casasapo_new.xlsx',index=False)"
   ]
  },
  {
   "cell_type": "code",
   "execution_count": null,
   "id": "2783a492",
   "metadata": {},
   "outputs": [],
   "source": []
  }
 ],
 "metadata": {
  "kernelspec": {
   "display_name": "Python 3 (ipykernel)",
   "language": "python",
   "name": "python3"
  },
  "language_info": {
   "codemirror_mode": {
    "name": "ipython",
    "version": 3
   },
   "file_extension": ".py",
   "mimetype": "text/x-python",
   "name": "python",
   "nbconvert_exporter": "python",
   "pygments_lexer": "ipython3",
   "version": "3.10.4"
  }
 },
 "nbformat": 4,
 "nbformat_minor": 5
}
